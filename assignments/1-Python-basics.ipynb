{
  "cells": [
    {
      "cell_type": "markdown",
      "metadata": {
        "id": "pBpAFM_Q5c8D"
      },
      "source": [
        "# Notebook Overview\n",
        "\n",
        "In this notebook, you’ll explore essential Python concepts such as numbers, strings, lists, loops, and functions to strengthen your familiarity with them. Each exercise includes a description of the task, followed by a space where you will implement a solution.\n",
        "\n",
        "Once you’ve completed your implementation, the function will be automatically tested to ensure it works correctly. If successful, additional examples will be executed to further validate your solution."
      ]
    },
    {
      "cell_type": "markdown",
      "metadata": {
        "id": "bgoXbFlW5c8I"
      },
      "source": [
        "## \t1.\tRemove Vowels Function:\n",
        "Implement a function that removes all vowels from a given string.\n",
        "Example: \"hello\" → \"hll\""
      ]
    },
    {
      "cell_type": "code",
      "execution_count": 5,
      "metadata": {
        "vscode": {
          "languageId": "plaintext"
        },
        "id": "XeGyhpZV5c8J"
      },
      "outputs": [],
      "source": [
        "def remove_vowels(text: str) -> str:\n",
        "    \"\"\"\n",
        "    This function removes all vowels from a string using a loop.\n",
        "    Example: \"hello\" -> \"hll\"\n",
        "    \"\"\"\n",
        "    vocales = \"aeiouAEIOU\"\n",
        "    result = \"\"\n",
        "    for letra in text:\n",
        "        if letra not in vocales:\n",
        "            result += letra\n",
        "\n",
        "    return result"
      ]
    },
    {
      "cell_type": "code",
      "execution_count": 6,
      "metadata": {
        "vscode": {
          "languageId": "plaintext"
        },
        "colab": {
          "base_uri": "https://localhost:8080/"
        },
        "id": "MILkbNML5c8L",
        "outputId": "3b081fe9-bd62-4662-ec7b-93d17bfd8703"
      },
      "outputs": [
        {
          "output_type": "stream",
          "name": "stdout",
          "text": [
            "st f n bn dí\n"
          ]
        }
      ],
      "source": [
        "\n",
        "assert remove_vowels(\"hola\") == \"hl\"\n",
        "answer_1  = remove_vowels(\"Este fue un buen día\")\n",
        "print(answer_1)"
      ]
    },
    {
      "cell_type": "markdown",
      "metadata": {
        "id": "odV4WnKO5c8M"
      },
      "source": [
        "# 2.\tSum List of Floats Function:\n",
        "Write a function that computes the element-wise sum of two lists of floats.\n",
        "Example: [1, 2, 3] + [4, 5, -2.3] → [5, 7, 0.7]"
      ]
    },
    {
      "cell_type": "code",
      "execution_count": 8,
      "metadata": {
        "vscode": {
          "languageId": "plaintext"
        },
        "id": "HtcD9S0j5c8N"
      },
      "outputs": [],
      "source": [
        "def sum_list_of_floats(a: list, b: list) -> list:\n",
        "    \"\"\"\n",
        "    Returns the coordinate-wise sum of a and b.\n",
        "    Example: [1, 2, 3] + [4, 5, -2.3] -> [5, 7, 0.7]\n",
        "    \"\"\"\n",
        "\n",
        "    # Verificar que ambas listas tienen la misma longitud\n",
        "    if len(a) != len(b):\n",
        "        raise ValueError(\"Ambas listas deben tener la misma longitud.\")\n",
        "\n",
        "    # Sumar elemento a elemento usando un bucle\n",
        "    resultado = [x + y for x, y in zip(a, b)]\n",
        "    return resultado"
      ]
    },
    {
      "cell_type": "code",
      "execution_count": 12,
      "metadata": {
        "vscode": {
          "languageId": "plaintext"
        },
        "colab": {
          "base_uri": "https://localhost:8080/"
        },
        "id": "4MCwU1e85c8O",
        "outputId": "9d1d1dfb-b35a-4383-9235-b2d9031eb30f"
      },
      "outputs": [
        {
          "output_type": "stream",
          "name": "stdout",
          "text": [
            "[3, -1, 7, 2]\n"
          ]
        }
      ],
      "source": [
        "import numpy as np\n",
        "\n",
        "assert np.allclose(\n",
        "    sum_list_of_floats(\n",
        "        [1, 2, 3], [4, 5, -2.3]),\n",
        "    [5, 7, 0.7]\n",
        ")\n",
        "answer_2 = sum_list_of_floats([0, 0, 5, 4], [3, -1, 2, -2])\n",
        "print(answer_2)"
      ]
    }
  ],
  "metadata": {
    "language_info": {
      "name": "python"
    },
    "colab": {
      "provenance": []
    },
    "kernelspec": {
      "name": "python3",
      "display_name": "Python 3"
    }
  },
  "nbformat": 4,
  "nbformat_minor": 0
}